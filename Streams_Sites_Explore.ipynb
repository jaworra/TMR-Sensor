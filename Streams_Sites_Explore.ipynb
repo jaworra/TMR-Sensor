{
 "cells": [
  {
   "cell_type": "markdown",
   "metadata": {},
   "source": [
    "### Configuration for Transmax streams gateway"
   ]
  },
  {
   "cell_type": "code",
   "execution_count": 45,
   "metadata": {},
   "outputs": [],
   "source": [
    "import requests\n",
    "import time\n",
    "import json\n",
    "import pandas\n",
    "session = requests.Session()  # think of this as a new browser tab\n",
    "session.proxies = {\n",
    "    'http': 'localhost:3128',\n",
    "    'https': 'localhost:3128'\n",
    "}"
   ]
  },
  {
   "cell_type": "markdown",
   "metadata": {},
   "source": [
    "### Get Links - Returns information about the links that match the filter conditions."
   ]
  },
  {
   "cell_type": "code",
   "execution_count": 123,
   "metadata": {},
   "outputs": [],
   "source": [
    "\n",
    "headers_txt = {'Content-type': 'application/json','x-api-key': 'USoLc2B9De86v9QHy5ahcaXkXJd8Fq0a7MCwTI2V'}\n",
    "\n",
    "ser_SIMSRecent  = url + \"/Incidents/v1/sims\"\n",
    "payload_ser_aggDet = {'size': 5000}    \n",
    "\n",
    "#-27.419036, 153.072264\n",
    "#-27.500461, 153.165783\n",
    "#-27.4191,153.0723\n",
    "#-27.576360, 153.105984\n",
    "#-27.566874, 152.977381\n",
    "#-27.560914, 152.940195  Dara\n",
    "#-27.555910, 152.940246  Centenary Hwy\n",
    "\n",
    "ser_SIMSRecent  = url + \"/gis/v1/links\"\n",
    "payload_ser_aggDet = {\n",
    "        'size':500,\n",
    "        'from': 1,\n",
    "        'north': -27.5559,\n",
    "        'east': 152.9402,\n",
    "        'south':  -27.556,\n",
    "        'west': 152.94033\n",
    "         }   \n",
    "\n",
    "response = session.get(ser_SIMSRecent,params=payload_ser_aggDet, headers=headers_txt, timeout=600)\n",
    "response_json = response.json()\n",
    "#print(response_json)"
   ]
  },
  {
   "cell_type": "code",
   "execution_count": 124,
   "metadata": {},
   "outputs": [],
   "source": [
    "loop_streams_str = response_json['featureCollection']['features']\n",
    "loop_list=[]\n",
    "\n",
    "def change_cord_list(cord_list_old):\n",
    "    '''Change lat long to long lat'''\n",
    "    cord_list = []\n",
    "    for cord in cord_list_old:\n",
    "        lat_long = [cord[1], cord[0]]\n",
    "        cord_list.append(lat_long)\n",
    "    return cord_list\n",
    "\n",
    "locations =[]\n",
    "\n",
    "for site in loop_streams_str:\n",
    "    ## only save sites with more than two coordinates\n",
    "    if (len(site['geometry']['coordinates']) >1):\n",
    "        #switch lat long\n",
    "        new_cord_list =[]\n",
    "        cord_list = site['geometry']['coordinates']\n",
    "        new_cord_list = change_cord_list(cord_list)\n",
    "        case = {'id': site['id'], 'geometry': new_cord_list, 'road':site['properties']['road'] }\n",
    "        loop_list.append(case) \n",
    "        locations.append(new_cord_list)"
   ]
  },
  {
   "cell_type": "code",
   "execution_count": 125,
   "metadata": {},
   "outputs": [
    {
     "data": {
      "application/vnd.jupyter.widget-view+json": {
       "model_id": "0c07ea0ce58848aea6fd323b3e1761e1",
       "version_major": 2,
       "version_minor": 0
      },
      "text/plain": [
       "Map(basemap={'url': 'https://{s}.tile.openstreetmap.org/{z}/{x}/{y}.png', 'max_zoom': 19, 'attribution': 'Map …"
      ]
     },
     "metadata": {},
     "output_type": "display_data"
    }
   ],
   "source": [
    "from ipyleaflet import Map, Polyline, FullScreenControl\n",
    "\n",
    "line = Polyline(\n",
    "    locations = [[\n",
    "    locations,]],\n",
    "    color = \"black\",\n",
    "    fill_color= \"black\",\n",
    "    weight=2)\n",
    "m = Map(center = (-27,153), zoom =8)\n",
    "m.add_layer(line)\n",
    "m.add_control(FullScreenControl())\n",
    "m"
   ]
  },
  {
   "cell_type": "code",
   "execution_count": 126,
   "metadata": {
    "collapsed": true
   },
   "outputs": [
    {
     "data": {
      "text/plain": [
       "{'featureCollection': {'type': 'FeatureCollection',\n",
       "  'features': [{'type': 'Feature',\n",
       "    'id': '8484273:39:streams.metro.tmr.its',\n",
       "    'geometry': {'type': 'LineString',\n",
       "     'coordinates': [[152.940223, -27.556018],\n",
       "      [152.940288, -27.55568],\n",
       "      [152.940395850944, -27.5551318319793],\n",
       "      [152.94053, -27.55445],\n",
       "      [152.94068, -27.553661],\n",
       "      [152.940735401219, -27.5533585745196],\n",
       "      [152.940816709081, -27.5529147292519],\n",
       "      [152.940816709084, -27.552914729236],\n",
       "      [152.940816709084, -27.552914729236],\n",
       "      [152.94085, -27.552733],\n",
       "      [152.940998, -27.551941],\n",
       "      [152.941138, -27.551235]]},\n",
       "    'properties': {'description': 'Centenary Hwy NB between Sumners Nb On & Centenary Hwy Nb Dandenong Rd Ex',\n",
       "     'startIntersectionId': '8484249:50:streams.metro.tmr.its',\n",
       "     'endIntersectionId': '8484204:50:streams.metro.tmr.its',\n",
       "     'length': 539,\n",
       "     'freeFlowSpeed': 100,\n",
       "     'road': 'Centenary Highway '}},\n",
       "   {'type': 'Feature',\n",
       "    'id': '8484287:39:streams.metro.tmr.its',\n",
       "    'geometry': {'type': 'LineString',\n",
       "     'coordinates': [[152.940678, -27.561966],\n",
       "      [152.940508, -27.561586],\n",
       "      [152.940354, -27.561251],\n",
       "      [152.940197, -27.560857],\n",
       "      [152.940068, -27.560467],\n",
       "      [152.939951, -27.559991],\n",
       "      [152.939905, -27.559741],\n",
       "      [152.939855, -27.55942],\n",
       "      [152.939823, -27.559031],\n",
       "      [152.939817, -27.55862],\n",
       "      [152.939833738889, -27.55826760234],\n",
       "      [152.939834165689, -27.5582586170826],\n",
       "      [152.939834165689, -27.5582586170826],\n",
       "      [152.939836, -27.55822],\n",
       "      [152.939865214909, -27.5579903103701],\n",
       "      [152.939894, -27.557764],\n",
       "      [152.940103, -27.556654],\n",
       "      [152.940223, -27.556018]]},\n",
       "    'properties': {'description': 'Centenary Hwy NB between Sumners NB Ex Ramp & Sumners NB On',\n",
       "     'startIntersectionId': '8484256:50:streams.metro.tmr.its',\n",
       "     'endIntersectionId': '8484249:50:streams.metro.tmr.its',\n",
       "     'length': 677,\n",
       "     'freeFlowSpeed': 100,\n",
       "     'road': 'Centenary Highway '}}]},\n",
       " 'totalFound': 3,\n",
       " 'from': 1,\n",
       " 'size': 500}"
      ]
     },
     "execution_count": 126,
     "metadata": {},
     "output_type": "execute_result"
    }
   ],
   "source": [
    "response_json"
   ]
  },
  {
   "cell_type": "markdown",
   "metadata": {},
   "source": [
    "###  Chosen road workds site: Centenary Highway - Darra\n",
    "Works will commence in early-August 2019 and occur between 8pm and 5am, Sunday to Thursday, with the majority of work being on the road network. • Out of hours works will also be undertaken across the site to reduce impacts to the road network and ensure the safety of workers. • Speed will be reduced on Sumners Road to 40 kilometres per hour, and for both directions of the Centenary Motorway to 80 kilometres per hour in the active worksite areas. • Traffic control and signage will be in place as required. Please allow for extra time when planning your journey. • To ensure motorist and public safety, please follow all traffic and project related signage.\n",
    "\n",
    "##### Description\n",
    "On-road works will begin from August 2019 on the Sumners Road interchange Upgrade\n",
    "\n",
    "##### What is expected\n",
    "All lanes affected\n",
    "All directions \n",
    "Delays expected (during active hours)\n",
    "Changed traffic conditions\n",
    "\n",
    "##### Duration\n",
    "11 Aug 2019 to 31 Dec 2021"
   ]
  },
  {
   "cell_type": "markdown",
   "metadata": {},
   "source": [
    "### HERE extract"
   ]
  },
  {
   "cell_type": "code",
   "execution_count": null,
   "metadata": {},
   "outputs": [],
   "source": []
  }
 ],
 "metadata": {
  "kernelspec": {
   "display_name": "Python 3",
   "language": "python",
   "name": "python3"
  },
  "language_info": {
   "codemirror_mode": {
    "name": "ipython",
    "version": 3
   },
   "file_extension": ".py",
   "mimetype": "text/x-python",
   "name": "python",
   "nbconvert_exporter": "python",
   "pygments_lexer": "ipython3",
   "version": "3.7.3"
  }
 },
 "nbformat": 4,
 "nbformat_minor": 2
}
