{
 "cells": [
  {
   "cell_type": "markdown",
   "metadata": {},
   "source": [
    "### Configuration for Transmax streams gateway"
   ]
  },
  {
   "cell_type": "code",
   "execution_count": 45,
   "metadata": {},
   "outputs": [],
   "source": [
    "import requests\n",
    "import time\n",
    "import json\n",
    "import pandas\n",
    "session = requests.Session()  # think of this as a new browser tab\n",
    "session.proxies = {\n",
    "    'http': 'localhost:3128',\n",
    "    'https': 'localhost:3128'\n",
    "}"
   ]
  },
  {
   "cell_type": "code",
   "execution_count": 44,
   "metadata": {},
   "outputs": [],
   "source": [
    "headers_txt = {'Content-type': 'application/json','x-api-key': 'USoLc2B9De86v9QHy5ahcaXkXJd8Fq0a7MCwTI2V'}\n",
    "\n",
    "ser_SIMSRecent  = url + \"/Incidents/v1/sims\"\n",
    "payload_ser_SIMSRecent = {'size': 5000}    \n",
    "\n",
    "#-27.419036, 153.072264\n",
    "#-27.500461, 153.165783\n",
    "ser_SIMSRecent  = url + \"/gis/v1/links\"\n",
    "payload_ser_aggDet = {\n",
    "        'size':500,\n",
    "        'from': 1,\n",
    "        'north': -27.4190,\n",
    "        'east': 153.0722,\n",
    "        'south': -27.4191,\n",
    "        'west': 153.0723\n",
    "         }   \n",
    "\n",
    "response = session.get(ser_SIMSRecent,params=payload_ser_SIMSRecent, headers=headers_txt, timeout=600)\n",
    "response_json = response.json()\n",
    "#print(response_json)"
   ]
  },
  {
   "cell_type": "code",
   "execution_count": 31,
   "metadata": {},
   "outputs": [],
   "source": [
    "loop_streams_str = response_json['featureCollection']['features']\n",
    "loop_list=[]\n",
    "\n",
    "\n",
    "def change_cord_list(cord_list_old):\n",
    "    '''Change lat long to long lat'''\n",
    "    cord_list = []\n",
    "    for cord in cord_list_old:\n",
    "        lat_long = [cord[1], cord[0]]\n",
    "        cord_list.append(lat_long)\n",
    "    return cord_list\n",
    "\n",
    "locations =[]\n",
    "\n",
    "for site in loop_streams_str:\n",
    "    ## only save sites with more than two coordinates\n",
    "    if (len(site['geometry']['coordinates']) >1):\n",
    "        #switch lat long\n",
    "        new_cord_list =[]\n",
    "        cord_list = site['geometry']['coordinates']\n",
    "        new_cord_list = change_cord_list(cord_list)\n",
    "        case = {'id': site['id'], 'geometry': new_cord_list, 'road':site['properties']['road'] }\n",
    "        loop_list.append(case) \n",
    "        locations.append(new_cord_list)"
   ]
  },
  {
   "cell_type": "code",
   "execution_count": 43,
   "metadata": {},
   "outputs": [
    {
     "data": {
      "application/vnd.jupyter.widget-view+json": {
       "model_id": "7303814c70ed47e2bc7a8d6ccdf06af3",
       "version_major": 2,
       "version_minor": 0
      },
      "text/plain": [
       "Map(basemap={'url': 'https://{s}.tile.openstreetmap.org/{z}/{x}/{y}.png', 'max_zoom': 19, 'attribution': 'Map …"
      ]
     },
     "metadata": {},
     "output_type": "display_data"
    }
   ],
   "source": [
    "from ipyleaflet import Map, Polyline\n",
    "\n",
    "line = Polyline(\n",
    "    locations = [[\n",
    "    locations,]],\n",
    "    color = \"green\",\n",
    "    fill_color= \"green\",\n",
    "    weight=2)\n",
    "m = Map(center = (-27,153), zoom =8)\n",
    "m.add_layer(line)\n",
    "m"
   ]
  },
  {
   "cell_type": "code",
   "execution_count": null,
   "metadata": {
    "scrolled": false
   },
   "outputs": [],
   "source": []
  },
  {
   "cell_type": "code",
   "execution_count": null,
   "metadata": {},
   "outputs": [],
   "source": []
  },
  {
   "cell_type": "code",
   "execution_count": null,
   "metadata": {},
   "outputs": [],
   "source": []
  },
  {
   "cell_type": "code",
   "execution_count": null,
   "metadata": {},
   "outputs": [],
   "source": []
  },
  {
   "cell_type": "code",
   "execution_count": null,
   "metadata": {},
   "outputs": [],
   "source": []
  },
  {
   "cell_type": "code",
   "execution_count": null,
   "metadata": {},
   "outputs": [],
   "source": []
  },
  {
   "cell_type": "code",
   "execution_count": null,
   "metadata": {},
   "outputs": [],
   "source": []
  },
  {
   "cell_type": "code",
   "execution_count": null,
   "metadata": {},
   "outputs": [],
   "source": []
  },
  {
   "cell_type": "code",
   "execution_count": null,
   "metadata": {
    "scrolled": false
   },
   "outputs": [],
   "source": []
  },
  {
   "cell_type": "code",
   "execution_count": null,
   "metadata": {
    "scrolled": true
   },
   "outputs": [],
   "source": []
  },
  {
   "cell_type": "code",
   "execution_count": null,
   "metadata": {},
   "outputs": [],
   "source": []
  },
  {
   "cell_type": "code",
   "execution_count": 165,
   "metadata": {},
   "outputs": [],
   "source": []
  },
  {
   "cell_type": "code",
   "execution_count": 207,
   "metadata": {},
   "outputs": [],
   "source": []
  },
  {
   "cell_type": "code",
   "execution_count": null,
   "metadata": {},
   "outputs": [],
   "source": []
  },
  {
   "cell_type": "code",
   "execution_count": null,
   "metadata": {},
   "outputs": [],
   "source": []
  },
  {
   "cell_type": "code",
   "execution_count": null,
   "metadata": {},
   "outputs": [],
   "source": []
  },
  {
   "cell_type": "code",
   "execution_count": null,
   "metadata": {},
   "outputs": [],
   "source": []
  }
 ],
 "metadata": {
  "kernelspec": {
   "display_name": "Python 3",
   "language": "python",
   "name": "python3"
  },
  "language_info": {
   "codemirror_mode": {
    "name": "ipython",
    "version": 3
   },
   "file_extension": ".py",
   "mimetype": "text/x-python",
   "name": "python",
   "nbconvert_exporter": "python",
   "pygments_lexer": "ipython3",
   "version": "3.7.3"
  }
 },
 "nbformat": 4,
 "nbformat_minor": 2
}
