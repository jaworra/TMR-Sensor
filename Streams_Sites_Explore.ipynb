{
 "cells": [
  {
   "cell_type": "markdown",
   "metadata": {},
   "source": [
    "\n",
    "##  Chosen road workds site: Centenary Highway - Darra\n",
    "\n",
    "### Starter code for AWS lambda real time call. Checking HERE vs Streams Loops speed data \n",
    "\n",
    "Works will commence in early-August 2019 and occur between 8pm and 5am, Sunday to Thursday, with the majority of work being on the road network. • Out of hours works will also be undertaken across the site to reduce impacts to the road network and ensure the safety of workers. • Speed will be reduced on Sumners Road to 40 kilometres per hour, and for both directions of the Centenary Motorway to 80 kilometres per hour in the active worksite areas. • Traffic control and signage will be in place as required. Please allow for extra time when planning your journey. • To ensure motorist and public safety, please follow all traffic and project related signage.\n",
    "\n",
    "- Description   On-road works will begin from August 2019 on the Sumners Road interchange Upgrade\n",
    "- What is expected \n",
    "All lanes affected\n",
    "All directions \n",
    "Delays expected (during active hours)\n",
    "Changed traffic conditions\n",
    "- Duration \n",
    "11 Aug 2019 to 31 Dec 2021"
   ]
  },
  {
   "cell_type": "code",
   "execution_count": 45,
   "metadata": {},
   "outputs": [],
   "source": [
    "import requests\n",
    "import time\n",
    "import json\n",
    "import pandas\n",
    "session = requests.Session()  # think of this as a new browser tab\n",
    "session.proxies = {\n",
    "    'http': 'localhost:3128',\n",
    "    'https': 'localhost:3128'\n",
    "}\n",
    "#secrets"
   ]
  },
  {
   "cell_type": "markdown",
   "metadata": {},
   "source": [
    "### Get Links - From Transmax\n",
    "- Real Time speed informaiton"
   ]
  },
  {
   "cell_type": "code",
   "execution_count": 595,
   "metadata": {
    "collapsed": true
   },
   "outputs": [
    {
     "data": {
      "application/vnd.jupyter.widget-view+json": {
       "model_id": "3e99f76083784d7982fb6b0c17d920eb",
       "version_major": 2,
       "version_minor": 0
      },
      "text/plain": [
       "Map(basemap={'url': 'https://{s}.tile.openstreetmap.org/{z}/{x}/{y}.png', 'max_zoom': 19, 'attribution': 'Map …"
      ]
     },
     "metadata": {},
     "output_type": "display_data"
    }
   ],
   "source": [
    "#data exploring\n",
    "# using gis endpoint for link id - confirm id and send to real time endpoint\n",
    "\n",
    "url='https://api.dtmr.staging.data.streams.com.au'\n",
    "headers_txt = {'Content-type': 'application/json','x-api-key': 'apikeygoeshere'}\n",
    "ser_SIMSRecent  = url + \"/gis/v1/links\"\n",
    "\n",
    "#This payload configured Centenary Highway\n",
    "payload_ser_aggDet = {\n",
    "        'size':500,\n",
    "        'from': 1,\n",
    "        'north': -27.5559,\n",
    "        'east': 152.9402,\n",
    "        'south':  -27.556,\n",
    "        'west': 152.94033\n",
    "         }   \n",
    "\n",
    "response = session.get(ser_SIMSRecent,params=payload_ser_aggDet, headers=headers_txt, timeout=600)\n",
    "response_json = response.json()\n",
    "\n",
    "loop_streams_str = response_json['featureCollection']['features']\n",
    "loop_list=[]\n",
    "\n",
    "\n",
    "def change_cord_list(cord_list_old):\n",
    "    '''Change lat long to long lat'''\n",
    "    cord_list = []\n",
    "    for cord in cord_list_old:\n",
    "        lat_long = [cord[1], cord[0]]\n",
    "        cord_list.append(lat_long)\n",
    "    return cord_list\n",
    "\n",
    "locations =[]\n",
    "\n",
    "for site in loop_streams_str:\n",
    "    ## only save sites with more than two coordinates\n",
    "    if (len(site['geometry']['coordinates']) >1):\n",
    "        #switch lat long\n",
    "        new_cord_list =[]\n",
    "        cord_list = site['geometry']['coordinates']\n",
    "        new_cord_list = change_cord_list(cord_list)\n",
    "        case = {'id': site['id'], 'geometry': new_cord_list, 'road':site['properties']['road'] }\n",
    "        loop_list.append(case) \n",
    "        locations.append(new_cord_list)\n",
    "\n",
    "\n",
    "from ipyleaflet import Map, Polyline, FullScreenControl\n",
    "\n",
    "streams_line = Polyline(\n",
    "    locations = [[\n",
    "    locations,]],\n",
    "    color = \"black\",\n",
    "    fill_color= \"black\",\n",
    "    weight=2)\n",
    "\n",
    "m = Map(center = (-27.555910,152.940246), zoom =15)\n",
    "m.add_layer(streams_line)\n",
    "m.add_control(FullScreenControl())\n",
    "m\n"
   ]
  },
  {
   "cell_type": "code",
   "execution_count": 598,
   "metadata": {},
   "outputs": [],
   "source": [
    "# real time endpoing from monitoring\n",
    "import csv\n",
    "import time\n",
    "from datetime import datetime, timedelta\n",
    "\n",
    "#This payload configured Centenary Highway\n",
    "#'id': '8484273:39:streams.metro.tmr.its',\n",
    "#'id': '8484287:39:streams.metro.tmr.its',\n",
    "\n",
    "#setpayload\n",
    "url='https://api.dtmr.staging.data.streams.com.au'\n",
    "ser_SIMSRecent  = url + \"/traffic/v1/link/csv\"\n",
    "headers_txt = {'Content-type': 'application/csv','x-api-key': '!apikeygoeshere!'}\n",
    "\n",
    "#sensor 8484287\n",
    "payload_ser_aggDet = {\n",
    "        'ids':8484273\n",
    "          }   \n",
    "\n",
    "response = session.get(ser_SIMSRecent,params=payload_ser_aggDet, headers=headers_txt, timeout=600)\n",
    "decoded_content = response.content.decode('utf-8')\n",
    "cr = csv.reader(decoded_content.splitlines(), delimiter=',')\n",
    "\n",
    "my_list = list(cr)\n",
    "#return speed if a valid record\n",
    "if int(my_list[1][0]) > 0:\n",
    "    id_8484273_speed = int(my_list[4][4])\n",
    "    id_8484273_time = datetime.strftime(datetime.strptime(my_list[4][1][:-1],'%Y-%m-%dT%H:%M:%S.%f')+timedelta(hours = 10), '%Y-%m-%d %H:%M')\n",
    "    \n",
    "#sensor 8484287\n",
    "payload_ser_aggDet = {\n",
    "        'ids':8484287\n",
    "          }   \n",
    "response = session.get(ser_SIMSRecent,params=payload_ser_aggDet, headers=headers_txt, timeout=600)\n",
    "decoded_content = response.content.decode('utf-8')\n",
    "cr = csv.reader(decoded_content.splitlines(), delimiter=',')\n",
    "my_list = list(cr)\n",
    "#return speed if a valid record\n",
    "if int(my_list[1][0]) > 0:\n",
    "    id_8484287_speed = int(my_list[4][4]) \n",
    "    id_8484287_time = datetime.strftime(datetime.strptime(my_list[4][1][:-1],'%Y-%m-%dT%H:%M:%S.%f')+timedelta(hours = 10), '%Y-%m-%d %H:%M')\n",
    "    \n",
    "#get average values from two sensors\n",
    "if (id_8484273_speed > 0) & (id_8484287_speed > 0):\n",
    "    average_speed =(id_8484273_speed +id_8484287_speed)/2\n",
    "else:\n",
    "    average_speed =0\n"
   ]
  },
  {
   "cell_type": "code",
   "execution_count": 594,
   "metadata": {},
   "outputs": [
    {
     "data": {
      "text/plain": [
       "80.0"
      ]
     },
     "execution_count": 594,
     "metadata": {},
     "output_type": "execute_result"
    }
   ],
   "source": [
    "average_speed"
   ]
  },
  {
   "cell_type": "markdown",
   "metadata": {},
   "source": [
    "### Get Links - From HERE API\n",
    "- Real Time speed informaiton"
   ]
  },
  {
   "cell_type": "code",
   "execution_count": 599,
   "metadata": {},
   "outputs": [],
   "source": [
    "incidentId ='Centenary Highway - Darra'\n",
    "incidentCord = '-27.555910,152.940246'\n",
    "\n",
    "#setup dataframe\n",
    "dfcols = ['id','linkId','name','avSpeed','jamF','direc','cords']\n",
    "dfHere = pd.DataFrame(columns = dfcols)\n",
    "\n",
    "#configure session request API\n",
    "starttime = time.time()\n",
    "urlsession = requests.session()\n",
    "prox = \"0.0001\"# \"20\" #proximity in metres \n",
    "\n",
    "#payload\n",
    "app_id=data['credentials'][0]['appid']\n",
    "app_code=data['credentials'][0]['appcode']\n",
    "\n",
    "#configure payload\n",
    "url = \"https://traffic.api.here.com/traffic/6.2/flow.json?app_id=\" + app_id + \"&app_code=\" + app_code\n",
    "url +=\"&prox=\"+incidentCord+\",0.01&responseattributes=sh,fc&units=metric\"\n",
    "\n",
    "response = session.get(url)\n",
    "response_json = response.json()\n",
    "\n",
    "here_locations = [] # build list for polyline based on json coordinates\n",
    "if response !=\"\": #only process return values\n",
    "    #process json return for output\n",
    "    try:\n",
    "        r=response_json#json.loads(response)   \n",
    "        for el1 in r['RWS']:\n",
    "            for el2 in el1['RW']:\n",
    "                    for el3 in el2['FIS']: #Road level\n",
    "                        for el4 in el3['FI']: #flow information extract here at link level\n",
    "                            linRd = el4['TMC'].get('DE').replace(\"'\",\"\") #get rid of ' i.e \"O'keefe Street\" to \"Okeefe Street\"\n",
    "                            linRd_pk =el4['TMC'].get('PC')\n",
    "                            flowInfoDirection = el4['TMC'].get('QD') \n",
    "                            #print(linRd)\n",
    "                            flowInfoSpeed = el4['CF'][0].get('SU') #Speed (based on UNITS) not capped by speed limit\n",
    "                            flowInfoJam = el4['CF'][0].get('JF') #The number between 0.0 and 10.0 indicating the expected quality of travel. When there is a road closure, the Jam Factor will be 10. As the number approaches 10.0 the quality of travel is getting worse. -1.0 indicates that a Jam Factor could not be calculated\n",
    "                            flowInfoCon =  el4['CF'][0].get('CN') #Confidence, an indication of how the speed was determined. -1.0 road closed. 1.0=100% 0.7-100% Historical Usually a value between .7 and 1.0\n",
    "                            for el5 in el4['SHP']: #get shape file\n",
    "                                cordStr = el5['value']\n",
    "                                dfHere.loc[len(dfHere)] = [incidentId,linRd_pk,linRd, flowInfoSpeed,flowInfoJam,flowInfoDirection,cordStr]\n",
    "\n",
    "    except Exception as ex:\n",
    "        print(str(response))\n",
    "        raise ex       \n"
   ]
  },
  {
   "cell_type": "code",
   "execution_count": 602,
   "metadata": {
    "scrolled": true
   },
   "outputs": [],
   "source": [
    "#response_json\n",
    "#here_locations\n",
    "link_of_interest=dfHere.loc[(dfHere['linkId'] == 31862) & (dfHere['name'] == 'Sumners Road') & (dfHere['direc'] == '+') ] \n",
    "link_of_interest\n",
    "\n",
    "#extract speed\n",
    "link_of_interest_avspeed = round(link_of_interest['avSpeed'].mean(),1)\n",
    "link_of_interest_avspeed\n",
    "\n",
    "#extract jamFactor\n",
    "link_of_interest_jamfactor = round(link_of_interest['jamF'].mean(),1)\n",
    "link_of_interest_jamfactor\n",
    "\n",
    "#time variable\n",
    "link_time =datetime.strftime(datetime.utcnow() + timedelta(hours=10),'%Y-%m-%d %H:%M')   \n",
    "\n",
    "#extract coordinates\n",
    "here_locations = [] \n",
    "# iterate over rows with iterrows()\n",
    "for index, row in link_of_interest.head().iterrows():\n",
    "     # access data using column names\n",
    "    cord_string='['+str(row['cords'])+']'\n",
    "    cord_string = cord_string.replace(' -','],[-').replace(\"'\",\"\")\n",
    "    cord_string =eval(cord_string)\n",
    "    here_locations.append(cord_string)"
   ]
  },
  {
   "cell_type": "code",
   "execution_count": 603,
   "metadata": {},
   "outputs": [
    {
     "data": {
      "application/vnd.jupyter.widget-view+json": {
       "model_id": "6f6f200581e54b128f62439542292997",
       "version_major": 2,
       "version_minor": 0
      },
      "text/plain": [
       "Map(basemap={'url': 'https://{s}.tile.openstreetmap.org/{z}/{x}/{y}.png', 'max_zoom': 19, 'attribution': 'Map …"
      ]
     },
     "metadata": {},
     "output_type": "display_data"
    }
   ],
   "source": [
    "#ouput from here geojson\n",
    "from ipyleaflet import Map, Polyline, FullScreenControl\n",
    "\n",
    "here_line = Polyline(\n",
    "    locations = [[\n",
    "    here_locations,]],\n",
    "    color = \"red\",\n",
    "    fill_color= \"red\",\n",
    "    weight=2)\n",
    "\n",
    "m = Map(center = (-27.555910,152.940246), zoom =13)\n",
    "m.add_layer(here_line)\n",
    "m.add_layer(streams_line)\n",
    "\n",
    "m.add_control(FullScreenControl())\n",
    "m"
   ]
  },
  {
   "cell_type": "markdown",
   "metadata": {},
   "source": [
    "#### Code below is not required."
   ]
  },
  {
   "cell_type": "code",
   "execution_count": 156,
   "metadata": {},
   "outputs": [
    {
     "data": {
      "application/vnd.jupyter.widget-view+json": {
       "model_id": "5a30ac70320340c283465e374684ebd0",
       "version_major": 2,
       "version_minor": 0
      },
      "text/plain": [
       "Map(basemap={'url': 'https://{s}.tile.openstreetmap.org/{z}/{x}/{y}.png', 'max_zoom': 19, 'attribution': 'Map …"
      ]
     },
     "metadata": {},
     "output_type": "display_data"
    }
   ],
   "source": [
    "## this code is for reverse geocoding \n",
    "\n",
    "#Set session proxies\n",
    "import requests\n",
    "import time\n",
    "import json\n",
    "\n",
    "session = requests.Session()  # think of this as a new browser tab\n",
    "session.proxies = {\n",
    "    'http': 'localhost:3128',\n",
    "    'https': 'localhost:3128'\n",
    "}\n",
    "                \n",
    "#location Centenary Highway - Darra\n",
    "loc_lat=-27.555910\n",
    "loc_long=152.940246\n",
    "\n",
    "location=str(loc_lat)+','+str(loc_long)\n",
    "prox='10'\n",
    "\n",
    "#creditials load\n",
    "data=pd.read_json(\"credentials.json\")\n",
    "app_id=data['credentials'][0]['appid']\n",
    "app_code=data['credentials'][0]['appcode']\n",
    "            \n",
    "url = \"https://reverse.geocoder.api.here.com/6.2/reversegeocode.json\"\n",
    "url +=\"?app_id=\"+app_id+\"&app_code=\"+app_code\n",
    "url +=\"&mode=retrieveAddresses&maxresults=1\"\n",
    "url +=\"&locationattributes=mapReference\"\n",
    "url +=\"&prox=\"+location+','+prox\n",
    "\n",
    "response = session.get(url)\n",
    "response_json = response.json()\n",
    "\n",
    "here_link=response_json['Response']['View'][0]['Result'][0]['Location']['MapReference']['ReferenceId'] #PVids\n",
    "here_link_street=response_json['Response']['View'][0]['Result'][0]['Location']['Address']['Street'] # name 3\n",
    "pvid_x=response_json['Response']['View'][0]['Result'][0]['Location']['DisplayPosition']['Longitude']\n",
    "pvid_y=response_json['Response']['View'][0]['Result'][0]['Location']['DisplayPosition']['Latitude']\n",
    "\n",
    "#map results\n",
    "from ipyleaflet import Map, Polyline, FullScreenControl,Marker\n",
    "center = (pvid_y,pvid_x)# = pvid_x,pvid_y\n",
    "\n",
    "m = Map(center = center, zoom =15)\n",
    "marker = Marker(location=center, draggable=False)\n",
    "m.add_layer(marker)\n",
    "\n",
    "line = Polyline(\n",
    "    locations = [[\n",
    "    locations,]],\n",
    "    color = \"black\",\n",
    "    fill_color= \"black\",\n",
    "    weight=2)\n",
    "m.add_layer(line)\n",
    "m.add_control(FullScreenControl())\n",
    "m"
   ]
  }
 ],
 "metadata": {
  "kernelspec": {
   "display_name": "Python 3",
   "language": "python",
   "name": "python3"
  },
  "language_info": {
   "codemirror_mode": {
    "name": "ipython",
    "version": 3
   },
   "file_extension": ".py",
   "mimetype": "text/x-python",
   "name": "python",
   "nbconvert_exporter": "python",
   "pygments_lexer": "ipython3",
   "version": "3.7.3"
  }
 },
 "nbformat": 4,
 "nbformat_minor": 2
}
